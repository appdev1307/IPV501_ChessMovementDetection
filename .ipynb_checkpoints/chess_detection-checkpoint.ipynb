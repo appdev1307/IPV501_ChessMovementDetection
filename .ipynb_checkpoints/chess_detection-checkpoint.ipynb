{
 "cells": [
  {
   "cell_type": "code",
   "execution_count": 1,
   "id": "640bfb51-0e70-489d-8a88-e85abfb7ce0e",
   "metadata": {},
   "outputs": [],
   "source": [
    "import cv2\n",
    "import numpy as np\n",
    "from IPython.display import display, Image\n",
    "import matplotlib.pyplot as plt"
   ]
  },
  {
   "cell_type": "code",
   "execution_count": 2,
   "id": "be89048f-9074-4a6a-bb48-31b21439a068",
   "metadata": {},
   "outputs": [],
   "source": [
    "def find_chessboard_corners(frame):\n",
    "    \"\"\"Find the corners of the chessboard in the frame.\"\"\"\n",
    "    gray = cv2.cvtColor(frame, cv2.COLOR_BGR2GRAY)\n",
    "    ret, corners = cv2.findChessboardCorners(gray, (7, 7), None)\n",
    "    if ret:\n",
    "        criteria = (cv2.TERM_CRITERIA_EPS + cv2.TERM_CRITERIA_MAX_ITER, 30, 0.001)\n",
    "        corners = cv2.cornerSubPix(gray, corners, (11, 11), (-1, -1), criteria)\n",
    "    return ret, corners"
   ]
  },
  {
   "cell_type": "code",
   "execution_count": 3,
   "id": "f63e53bd-bbf6-4238-9813-7fc0cca5a86e",
   "metadata": {},
   "outputs": [],
   "source": [
    "def get_perspective_transform(corners, frame_shape):\n",
    "    \"\"\"Calculate the perspective transform matrix for the chessboard.\"\"\"\n",
    "    # Define the destination points for the transform\n",
    "    board_size = 400  # Size of the output board\n",
    "    dst_points = np.float32([[0, 0], [board_size, 0], [0, board_size], [board_size, board_size]])\n",
    "    \n",
    "    # Get the four corners of the chessboard\n",
    "    src_points = np.float32([corners[0][0], corners[6][0], corners[42][0], corners[48][0]])\n",
    "    \n",
    "    # Calculate the perspective transform matrix\n",
    "    matrix = cv2.getPerspectiveTransform(src_points, dst_points)\n",
    "    return matrix"
   ]
  },
  {
   "cell_type": "code",
   "execution_count": 4,
   "id": "519e7890-5eab-4fc2-85b3-1f9a3f4eb7a8",
   "metadata": {},
   "outputs": [],
   "source": [
    "def get_square_coordinates(board_size=400):\n",
    "    \"\"\"Generate coordinates for all 64 squares on the chessboard.\"\"\"\n",
    "    square_size = board_size // 8\n",
    "    squares = []\n",
    "    for row in range(8):\n",
    "        for col in range(8):\n",
    "            x1 = col * square_size\n",
    "            y1 = row * square_size\n",
    "            x2 = x1 + square_size\n",
    "            y2 = y1 + square_size\n",
    "            squares.append(((x1, y1), (x2, y2)))\n",
    "    return squares"
   ]
  },
  {
   "cell_type": "code",
   "execution_count": 5,
   "id": "82032513-7e70-422d-b961-4f809df2c8a9",
   "metadata": {},
   "outputs": [],
   "source": [
    "def get_square_name(row, col):\n",
    "    \"\"\"Convert row and column indices to chess notation.\"\"\"\n",
    "    files = 'abcdefgh'\n",
    "    ranks = '87654321'\n",
    "    return f\"{files[col]}{ranks[row]}\""
   ]
  },
  {
   "cell_type": "code",
   "execution_count": 6,
   "id": "4b4bd5e3-5e03-45ee-98e1-a3d62ad6e21a",
   "metadata": {},
   "outputs": [],
   "source": [
    "def detect_changes(prev_board, curr_board, threshold=30):\n",
    "    \"\"\"Detect changes between two consecutive frames.\"\"\"\n",
    "    diff = cv2.absdiff(prev_board, curr_board)\n",
    "    gray_diff = cv2.cvtColor(diff, cv2.COLOR_BGR2GRAY)\n",
    "    _, thresh = cv2.threshold(gray_diff, threshold, 255, cv2.THRESH_BINARY)\n",
    "    return thresh"
   ]
  },
  {
   "cell_type": "code",
   "execution_count": 7,
   "id": "e3f10741-ee2a-4c7e-b8be-7e6ae8eefa72",
   "metadata": {},
   "outputs": [],
   "source": [
    "def process_chess_video(video_source=0):\n",
    "    \"\"\"Main function to process the video feed and detect chess movements.\"\"\"\n",
    "    cap = cv2.VideoCapture(video_source)\n",
    "    prev_board = None\n",
    "    squares = get_square_coordinates()\n",
    "    \n",
    "    board_states = []  # List to store board images after each move\n",
    "    move_list = []     # List to store move notations\n",
    "    \n",
    "    while True:\n",
    "        ret, frame = cap.read()\n",
    "        if not ret:\n",
    "            break\n",
    "            \n",
    "        # Find chessboard corners\n",
    "        ret, corners = find_chessboard_corners(frame)\n",
    "        if not ret:\n",
    "            continue\n",
    "            \n",
    "        # Get perspective transform\n",
    "        matrix = get_perspective_transform(corners, frame.shape)\n",
    "        board = cv2.warpPerspective(frame, matrix, (400, 400))\n",
    "        \n",
    "        if prev_board is not None:\n",
    "            # Detect changes\n",
    "            changes = detect_changes(prev_board, board)\n",
    "            \n",
    "            # Analyze changes in each square\n",
    "            changed_squares = []\n",
    "            for i, ((x1, y1), (x2, y2)) in enumerate(squares):\n",
    "                square_changes = changes[y1:y2, x1:x2]\n",
    "                if np.mean(square_changes) > 10:  # Threshold for significant change\n",
    "                    row = i // 8\n",
    "                    col = i % 8\n",
    "                    changed_squares.append(get_square_name(row, col))\n",
    "            \n",
    "            # If exactly two squares changed, it's likely a move\n",
    "            if len(changed_squares) == 2:\n",
    "                move = f\"{changed_squares[0]} to {changed_squares[1]}\"\n",
    "                print(f\"Move detected: {move}\")\n",
    "                move_list.append(move)\n",
    "                board_states.append(board.copy())  # Save the board image\n",
    "        \n",
    "        prev_board = board.copy()\n",
    "        \n",
    "        # Display the processed board\n",
    "        cv2.imshow('Chess Board', board)\n",
    "        \n",
    "        if cv2.waitKey(1) & 0xFF == ord('q'):\n",
    "            break\n",
    "    \n",
    "    cap.release()\n",
    "    # cv2.destroyAllWindows()\n",
    "    \n",
    "    # After processing, board_states and move_list contain the history for visualization\n",
    "    return board_states, move_list"
   ]
  },
  {
   "cell_type": "code",
   "execution_count": null,
   "id": "fbb18fc6-1ffb-42e0-bbed-6537807a9279",
   "metadata": {},
   "outputs": [],
   "source": [
    "process_chess_video(\"chess-game.mkv\") "
   ]
  },
  {
   "cell_type": "code",
   "execution_count": null,
   "id": "4fef4b46-c74d-46bd-a537-3a24f088e1cd",
   "metadata": {},
   "outputs": [],
   "source": []
  },
  {
   "cell_type": "code",
   "execution_count": null,
   "id": "33cd21ce-85a9-488d-8286-e2f9242d733f",
   "metadata": {},
   "outputs": [],
   "source": []
  }
 ],
 "metadata": {
  "kernelspec": {
   "display_name": "Python [conda env:base] *",
   "language": "python",
   "name": "conda-base-py"
  },
  "language_info": {
   "codemirror_mode": {
    "name": "ipython",
    "version": 3
   },
   "file_extension": ".py",
   "mimetype": "text/x-python",
   "name": "python",
   "nbconvert_exporter": "python",
   "pygments_lexer": "ipython3",
   "version": "3.12.7"
  }
 },
 "nbformat": 4,
 "nbformat_minor": 5
}
